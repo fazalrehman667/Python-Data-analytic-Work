{
 "cells": [
  {
   "cell_type": "code",
   "execution_count": 1,
   "id": "8b73fdb6-9296-4206-8293-6e1786ae9336",
   "metadata": {},
   "outputs": [
    {
     "name": "stdout",
     "output_type": "stream",
     "text": [
      "my name is fazal\n"
     ]
    }
   ],
   "source": [
    "print(\"my name is fazal\")"
   ]
  },
  {
   "cell_type": "code",
   "execution_count": null,
   "id": "edd0edaa-b992-4eb9-b949-12bb33686c53",
   "metadata": {},
   "outputs": [],
   "source": []
  }
 ],
 "metadata": {
  "kernelspec": {
   "display_name": "Python 3 (ipykernel)",
   "language": "python",
   "name": "python3"
  },
  "language_info": {
   "codemirror_mode": {
    "name": "ipython",
    "version": 3
   },
   "file_extension": ".py",
   "mimetype": "text/x-python",
   "name": "python",
   "nbconvert_exporter": "python",
   "pygments_lexer": "ipython3",
   "version": "3.12.4"
  }
 },
 "nbformat": 4,
 "nbformat_minor": 5
}
